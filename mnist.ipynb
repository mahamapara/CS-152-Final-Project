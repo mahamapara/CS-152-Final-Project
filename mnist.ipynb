{
 "cells": [
  {
   "cell_type": "code",
   "execution_count": 32,
   "id": "b0ffe85a",
   "metadata": {},
   "outputs": [],
   "source": [
    "#!pip install -q -U einops datasets matplotlib tqdm\n",
    "\n",
    "import math\n",
    "from inspect import isfunction\n",
    "from functools import partial\n",
    "\n",
    "import matplotlib.pyplot as plt\n",
    "from tqdm.auto import tqdm\n",
    "from einops import rearrange\n",
    "\n",
    "import torch\n",
    "from torch import nn, einsum\n",
    "import torch.nn.functional as F\n",
    "from dmodel import Unet"
   ]
  },
  {
   "cell_type": "code",
   "execution_count": 33,
   "id": "31a8f4d1",
   "metadata": {},
   "outputs": [],
   "source": [
    "# linear beta schedule\n",
    "def linear_beta_schedule(n_timesteps=1000, start=1e-5, end=1e-2):\n",
    "    betas = torch.linspace(-6, 6, n_timesteps)\n",
    "    betas = torch.sigmoid(betas) * (end - start) + start\n",
    "    return betas"
   ]
  },
  {
   "cell_type": "code",
   "execution_count": 34,
   "id": "0f3a4846",
   "metadata": {},
   "outputs": [],
   "source": [
    "timesteps = 100\n",
    "betas = linear_beta_schedule(timesteps)\n",
    "\n",
    "# alphas\n",
    "alphas = 1 - betas\n",
    "alphas_prod = torch.cumprod(alphas, 0)\n",
    "\n",
    "alphas_bar_sqrt = torch.sqrt(alphas_prod)\n",
    "one_minus_alphas_bar_sqrt = torch.sqrt(1 - alphas_prod) # stddev\n",
    "\n",
    "def extract(input, t, x):\n",
    "    shape = x.shape\n",
    "    out = torch.gather(input, 0, t.to(input.device))\n",
    "    reshape = [t.shape[0]] + [1] * (len(shape) - 1)\n",
    "    return out.reshape(*reshape)"
   ]
  },
  {
   "cell_type": "code",
   "execution_count": 35,
   "id": "6f795a27",
   "metadata": {},
   "outputs": [],
   "source": [
    "def q_sample(x_0, t, noise=None):\n",
    "    if noise is None:\n",
    "        noise = torch.randn_like(x_0) # identity\n",
    "    alphas_t = extract(alphas_bar_sqrt, t, x_0)\n",
    "    alphas_1_m_t = extract(one_minus_alphas_bar_sqrt, t, x_0)\n",
    "    return (alphas_t * x_0 + alphas_1_m_t * noise)"
   ]
  },
  {
   "cell_type": "code",
   "execution_count": 36,
   "id": "da45ffcc",
   "metadata": {},
   "outputs": [
    {
     "name": "stderr",
     "output_type": "stream",
     "text": [
      "Found cached dataset mnist (/Users/tina/.cache/huggingface/datasets/mnist/mnist/1.0.0/fda16c03c4ecfb13f165ba7e29cf38129ce035011519968cdaf74894ce91c9d4)\n"
     ]
    },
    {
     "data": {
      "application/vnd.jupyter.widget-view+json": {
       "model_id": "8ff06e816ea04dd586d3026710f7f69b",
       "version_major": 2,
       "version_minor": 0
      },
      "text/plain": [
       "  0%|          | 0/2 [00:00<?, ?it/s]"
      ]
     },
     "metadata": {},
     "output_type": "display_data"
    }
   ],
   "source": [
    "from datasets import load_dataset\n",
    "\n",
    "# load dataset from the hub\n",
    "dataset = load_dataset(\"mnist\")\n",
    "image_size = 28\n",
    "channels = 1\n",
    "batch_size = 128"
   ]
  },
  {
   "cell_type": "code",
   "execution_count": 63,
   "id": "9664fc53",
   "metadata": {},
   "outputs": [],
   "source": [
    "from torchvision import transforms\n",
    "from torchvision.transforms import Compose, ToTensor, Lambda, ToPILImage, CenterCrop, Resize\n",
    "from torch.utils.data import DataLoader\n",
    "\n",
    "# define image transformations (e.g. using torchvision)\n",
    "transform = Compose([\n",
    "            #transforms.RandomHorizontalFlip(),\n",
    "            transforms.ToTensor(),\n",
    "            transforms.Lambda(lambda t: (t * 2) - 1)\n",
    "])\n",
    "\n",
    "# define function\n",
    "def transforms(examples):\n",
    "    examples[\"pixel_values\"] = [transform(image.convert(\"L\")) for image in examples[\"image\"]]\n",
    "    del examples[\"image\"]\n",
    "\n",
    "    return examples\n",
    "\n",
    "transformed_dataset = dataset.with_transform(transforms).remove_columns(\"label\")\n",
    "\n",
    "# create dataloader\n",
    "dataloader = DataLoader(transformed_dataset[\"train\"], batch_size=batch_size, shuffle=True)"
   ]
  },
  {
   "cell_type": "code",
   "execution_count": 38,
   "id": "dc9a7921",
   "metadata": {},
   "outputs": [
    {
     "name": "stdout",
     "output_type": "stream",
     "text": [
      "dict_keys(['pixel_values'])\n"
     ]
    }
   ],
   "source": [
    "batch = next(iter(dataloader))\n",
    "print(batch.keys())"
   ]
  },
  {
   "cell_type": "code",
   "execution_count": 39,
   "id": "1d87b126",
   "metadata": {},
   "outputs": [],
   "source": [
    "# samling x_t-1\n",
    "@torch.no_grad()\n",
    "def p_sample(model, x, t):\n",
    "    t = torch.tensor([t])\n",
    "    # Factor to the model output\n",
    "    eps_factor = ((1 - extract(alphas, t, x)) / extract(one_minus_alphas_bar_sqrt, t, x))\n",
    "    # Model output\n",
    "    eps_theta = model(x, t)\n",
    "    # Final values\n",
    "    mean = (1 / extract(alphas, t, x).sqrt()) * (x - (eps_factor * eps_theta))\n",
    "    # Generate z\n",
    "    z = torch.randn_like(x)\n",
    "    # Fixed sigma\n",
    "    sigma_t = extract(betas, t, x).sqrt()\n",
    "    sample = mean + sigma_t * z\n",
    "    return (sample)\n",
    "\n",
    "@torch.no_grad()\n",
    "def p_sample_loop(model, shape):\n",
    "    cur_x = torch.randn(shape)\n",
    "    x_seq = [cur_x]\n",
    "    for i in reversed(range(timesteps)):\n",
    "        cur_x = p_sample(model, cur_x, i)\n",
    "        x_seq.append(cur_x)\n",
    "    return x_seq"
   ]
  },
  {
   "cell_type": "code",
   "execution_count": 40,
   "id": "af71d1e0",
   "metadata": {},
   "outputs": [],
   "source": [
    "@torch.no_grad()\n",
    "def sample(model, image_size, batch_size=16, channels=3):\n",
    "    return p_sample_loop(model, shape=(batch_size, channels, image_size, image_size))"
   ]
  },
  {
   "cell_type": "code",
   "execution_count": 41,
   "id": "c3508c2e",
   "metadata": {},
   "outputs": [],
   "source": [
    "from torch.optim import Adam\n",
    "\n",
    "device = \"cuda\" if torch.cuda.is_available() else \"cpu\"\n",
    "\n",
    "model = Unet(\n",
    "    dim=image_size,\n",
    "    channels=channels,\n",
    "    dim_mults=(1, 2, 4,)\n",
    ")\n",
    "model.to(device)\n",
    "\n",
    "optimizer = Adam(model.parameters(), lr=1e-3)"
   ]
  },
  {
   "cell_type": "code",
   "execution_count": 42,
   "id": "7425957a",
   "metadata": {},
   "outputs": [],
   "source": [
    "from pathlib import Path\n",
    "\n",
    "def num_to_groups(num, divisor):\n",
    "    groups = num // divisor\n",
    "    remainder = num % divisor\n",
    "    arr = [divisor] * groups\n",
    "    if remainder > 0:\n",
    "        arr.append(remainder)\n",
    "    return arr\n",
    "\n",
    "results_folder = Path(\"./results\")\n",
    "results_folder.mkdir(exist_ok = True)\n",
    "save_and_sample_every = 1000"
   ]
  },
  {
   "cell_type": "code",
   "execution_count": 66,
   "id": "f9042391",
   "metadata": {},
   "outputs": [],
   "source": [
    "def noise_estimation_loss(model, x_0, t):\n",
    "    '''\n",
    "    batch_size = x_0.shape[0]\n",
    "    # Select a random step for each example\n",
    "    #t = torch.randint(0, n_steps, size=(batch_size // 2 + 1,))\n",
    "    #t = torch.cat([t, n_steps - t - 1], dim=0)[:batch_size].long()\n",
    "    \n",
    "    # x0 multiplier\n",
    "    a = extract(alphas_bar_sqrt, t, x_0)\n",
    "    # eps multiplier\n",
    "    am1 = extract(one_minus_alphas_bar_sqrt, t, x_0)\n",
    "    e = torch.randn_like(x_0)\n",
    "    # model input\n",
    "    x = x_0 * a + e * am1\n",
    "    \n",
    "    output = model(x, t)\n",
    "    return (e - output).square().mean()\n",
    "    '''\n",
    "    noise = torch.randn_like(x_0)\n",
    "    x_noisy = q_sample(x_0=x_0, t=t, noise=noise)\n",
    "    predicted_noise = model(x_noisy, t)\n",
    "    \n",
    "    return F.mse_loss(noise, predicted_noise).mean()"
   ]
  },
  {
   "cell_type": "code",
   "execution_count": null,
   "id": "4f657af0",
   "metadata": {},
   "outputs": [
    {
     "name": "stdout",
     "output_type": "stream",
     "text": [
      "Loss: 0.0946451723575592\n",
      "Loss: 0.10221751034259796\n",
      "Loss: 0.09338408708572388\n",
      "Loss: 0.09892953187227249\n",
      "Loss: 0.09793435782194138\n",
      "Loss: 0.1037047877907753\n",
      "Loss: 0.09351672977209091\n",
      "Loss: 0.10443670302629471\n",
      "Loss: 0.09460807591676712\n",
      "Loss: 0.09093816578388214\n",
      "Loss: 0.10357480496168137\n",
      "Loss: 0.08941715955734253\n",
      "Loss: 0.09095977991819382\n",
      "Loss: 0.09070239216089249\n",
      "Loss: 0.08849019557237625\n",
      "Loss: 0.08917006105184555\n"
     ]
    }
   ],
   "source": [
    "from torchvision.utils import save_image\n",
    "\n",
    "epochs = 3\n",
    "samples = []\n",
    "\n",
    "for epoch in range(epochs):\n",
    "    for step, batch in enumerate(dataloader):\n",
    "        optimizer.zero_grad()\n",
    "\n",
    "        batch_size = batch[\"pixel_values\"].shape[0]\n",
    "        batch = batch[\"pixel_values\"].to(device)\n",
    "\n",
    "      # Algorithm 1 line 3: sample t uniformally for every example in the batch\n",
    "        t = torch.randint(0, timesteps, (batch_size,), device=device).long()\n",
    "\n",
    "        #loss = p_losses(model, batch, t, loss_type=\"huber\")\n",
    "        loss = noise_estimation_loss(model, batch, t)\n",
    "\n",
    "        if step % 100 == 0:\n",
    "            print(\"Loss:\", loss.item())\n",
    "\n",
    "        loss.backward()\n",
    "        optimizer.step()\n",
    "\n",
    "      # save generated images\n",
    "        #if step != 0 and step % save_and_sample_every == 0:\n",
    "    #milestone = step // save_and_sample_every\n",
    "    #batches = num_to_groups(4, batch_size)\n",
    "    #all_images_list = list(map(lambda n: sample(model, image_size=image_size, batch_size=n, channels=channels), batches))\n",
    "    #all_images = torch.cat(all_images_list, dim=0)\n",
    "    #all_images = (all_images + 1) * 0.5\n",
    "    #save_image(all_images, str(results_folder / f'sample-{milestone}.png'), nrow = 6)\n",
    "    #samples.append(sample(model, image_size=image_size, batch_size=64, channels=channels))\n",
    "    #plt.imsave('test/{0}.jpg'.format(str(epoch)), samples[-1][5].reshape(image_size, image_size), cmap=\"gray\")"
   ]
  },
  {
   "cell_type": "code",
   "execution_count": 58,
   "id": "178fee32",
   "metadata": {},
   "outputs": [
    {
     "data": {
      "text/plain": [
       "<matplotlib.image.AxesImage at 0x7fcf52347130>"
      ]
     },
     "execution_count": 58,
     "metadata": {},
     "output_type": "execute_result"
    },
    {
     "data": {
      "image/png": "[encoded data removed]",
      "text/plain": [
       "<Figure size 640x480 with 1 Axes>"
      ]
     },
     "metadata": {},
     "output_type": "display_data"
    }
   ],
   "source": [
    "random_index = 5\n",
    "plt.imshow(samples[-1][-1][0].reshape(image_size, image_size, channels), cmap=\"gray\")"
   ]
  },
  {
   "cell_type": "code",
   "execution_count": null,
   "id": "533233c9",
   "metadata": {},
   "outputs": [],
   "source": []
  }
 ],
 "metadata": {
  "kernelspec": {
   "display_name": "Python 3 (ipykernel)",
   "language": "python",
   "name": "python3"
  },
  "language_info": {
   "codemirror_mode": {
    "name": "ipython",
    "version": 3
   },
   "file_extension": ".py",
   "mimetype": "text/x-python",
   "name": "python",
   "nbconvert_exporter": "python",
   "pygments_lexer": "ipython3",
   "version": "3.8.0"
  }
 },
 "nbformat": 4,
 "nbformat_minor": 5
}
